{
  "nbformat": 4,
  "nbformat_minor": 0,
  "metadata": {
    "colab": {
      "provenance": [],
      "authorship_tag": "ABX9TyOIB4a2J7HLxYtsoa8if4he",
      "include_colab_link": true
    },
    "kernelspec": {
      "name": "python3",
      "display_name": "Python 3"
    },
    "language_info": {
      "name": "python"
    }
  },
  "cells": [
    {
      "cell_type": "markdown",
      "metadata": {
        "id": "view-in-github",
        "colab_type": "text"
      },
      "source": [
        "<a href=\"https://colab.research.google.com/github/windyrahayu45/Proyek-Analisis-Sentimen/blob/main/Sentimen_Shopee.ipynb\" target=\"_parent\"><img src=\"https://colab.research.google.com/assets/colab-badge.svg\" alt=\"Open In Colab\"/></a>"
      ]
    },
    {
      "cell_type": "code",
      "source": [
        "import requests\n",
        "import pandas as pd\n",
        "import time\n",
        "import re\n",
        "import nltk\n",
        "import matplotlib.pyplot as plt\n",
        "import seaborn as sns\n",
        "from nltk.corpus import stopwords\n",
        "from textblob import TextBlob\n",
        "from sklearn.model_selection import train_test_split\n",
        "from sklearn.feature_extraction.text import TfidfVectorizer\n",
        "from sklearn.naive_bayes import MultinomialNB\n",
        "from sklearn.ensemble import RandomForestClassifier\n",
        "from sklearn.linear_model import LogisticRegression\n",
        "from sklearn.tree import DecisionTreeClassifier\n",
        "from sklearn.neural_network import MLPClassifier\n",
        "from sklearn.metrics import accuracy_score, classification_report, confusion_matrix\n",
        "\n",
        "# Pastikan stopwords bahasa Indonesia tersedia\n",
        "nltk.download(\"stopwords\")\n",
        "stop_words = set(stopwords.words(\"indonesian\"))"
      ],
      "metadata": {
        "colab": {
          "base_uri": "https://localhost:8080/"
        },
        "id": "asFK6-H7vVxV",
        "outputId": "236e2088-5e5b-4c87-e49f-a9673dcf53e4"
      },
      "execution_count": 1,
      "outputs": [
        {
          "output_type": "stream",
          "name": "stderr",
          "text": [
            "[nltk_data] Downloading package stopwords to /root/nltk_data...\n",
            "[nltk_data]   Unzipping corpora/stopwords.zip.\n"
          ]
        }
      ]
    },
    {
      "cell_type": "code",
      "source": [
        "# Shop ID dan Item ID dari URL produk Shopee\n",
        "SHOP_ID = 468947139\n",
        "ITEM_ID = 23878205368\n",
        "MAX_REVIEWS = 10000  # Target minimal 10.000 data\n",
        "LIMIT = 50\n",
        "\n",
        "# Set Header & Cookies dari Browser\n",
        "HEADERS = {\n",
        "    \"User-Agent\": \"Mozilla/5.0 (Windows NT 10.0; Win64; x64) AppleWebKit/537.36 (KHTML, like Gecko) Chrome/123.0.0.0 Safari/537.36\",\n",
        "    \"Referer\": f\"https://shopee.co.id/product/{SHOP_ID}/{ITEM_ID}/\",\n",
        "}\n",
        "\n",
        "# Fungsi scraping dengan session\n",
        "def scrape_shopee_reviews(shop_id, item_id, max_reviews=10000):\n",
        "    session = requests.Session()\n",
        "    session.headers.update(HEADERS)\n",
        "\n",
        "    reviews = []\n",
        "    offset = 0\n",
        "\n",
        "    while len(reviews) < max_reviews:\n",
        "        print(f\"🔄 Mengambil data dari offset {offset}...\")\n",
        "        url = f\"https://shopee.co.id/api/v2/item/get_ratings?itemid={item_id}&shopid={shop_id}&offset={offset}&limit={LIMIT}&type=0\"\n",
        "\n",
        "        try:\n",
        "            response = session.get(url)\n",
        "            if response.status_code != 200:\n",
        "                print(\"⚠️ Gagal mengambil data, status code:\", response.status_code)\n",
        "                break\n",
        "\n",
        "            data = response.json()\n",
        "            if \"data\" in data and \"ratings\" in data[\"data\"]:\n",
        "                for review in data[\"data\"][\"ratings\"]:\n",
        "                    reviews.append({\n",
        "                        \"Username\": review.get(\"author_username\", \"\"),\n",
        "                        \"Rating\": review.get(\"rating_star\", 0),\n",
        "                        \"Komentar\": review.get(\"comment\", \"\")\n",
        "                    })\n",
        "\n",
        "            offset += LIMIT\n",
        "            if len(data[\"data\"][\"ratings\"]) < LIMIT:\n",
        "                break\n",
        "\n",
        "            time.sleep(1)\n",
        "\n",
        "        except Exception as e:\n",
        "            print(\"⚠️ Terjadi kesalahan:\", str(e))\n",
        "            break\n",
        "\n",
        "    return pd.DataFrame(reviews)\n",
        "\n",
        "# Jalankan scraping\n",
        "df_reviews = scrape_shopee_reviews(SHOP_ID, ITEM_ID, MAX_REVIEWS)\n",
        "\n",
        "# Simpan hasil scraping sebelum preprocessing\n",
        "df_reviews.to_csv(\"shopee_reviews_raw.csv\", index=False)\n",
        "print(\"✅ Data mentah telah disimpan sebagai 'shopee_reviews_raw.csv'.\")"
      ],
      "metadata": {
        "colab": {
          "base_uri": "https://localhost:8080/"
        },
        "id": "X8JsWHC6vcRc",
        "outputId": "02b714c7-4a3a-453f-9679-d78eb2c2644e"
      },
      "execution_count": 2,
      "outputs": [
        {
          "output_type": "stream",
          "name": "stdout",
          "text": [
            "🔄 Mengambil data dari offset 0...\n",
            "🔄 Mengambil data dari offset 50...\n",
            "🔄 Mengambil data dari offset 100...\n",
            "🔄 Mengambil data dari offset 150...\n",
            "🔄 Mengambil data dari offset 200...\n",
            "🔄 Mengambil data dari offset 250...\n",
            "🔄 Mengambil data dari offset 300...\n",
            "🔄 Mengambil data dari offset 350...\n",
            "🔄 Mengambil data dari offset 400...\n",
            "🔄 Mengambil data dari offset 450...\n",
            "🔄 Mengambil data dari offset 500...\n",
            "🔄 Mengambil data dari offset 550...\n",
            "🔄 Mengambil data dari offset 600...\n",
            "🔄 Mengambil data dari offset 650...\n",
            "🔄 Mengambil data dari offset 700...\n",
            "🔄 Mengambil data dari offset 750...\n",
            "🔄 Mengambil data dari offset 800...\n",
            "🔄 Mengambil data dari offset 850...\n",
            "🔄 Mengambil data dari offset 900...\n",
            "🔄 Mengambil data dari offset 950...\n",
            "🔄 Mengambil data dari offset 1000...\n",
            "🔄 Mengambil data dari offset 1050...\n",
            "🔄 Mengambil data dari offset 1100...\n",
            "🔄 Mengambil data dari offset 1150...\n",
            "🔄 Mengambil data dari offset 1200...\n",
            "🔄 Mengambil data dari offset 1250...\n",
            "🔄 Mengambil data dari offset 1300...\n",
            "🔄 Mengambil data dari offset 1350...\n",
            "🔄 Mengambil data dari offset 1400...\n",
            "🔄 Mengambil data dari offset 1450...\n",
            "🔄 Mengambil data dari offset 1500...\n",
            "🔄 Mengambil data dari offset 1550...\n",
            "🔄 Mengambil data dari offset 1600...\n",
            "🔄 Mengambil data dari offset 1650...\n",
            "🔄 Mengambil data dari offset 1700...\n",
            "🔄 Mengambil data dari offset 1750...\n",
            "🔄 Mengambil data dari offset 1800...\n",
            "🔄 Mengambil data dari offset 1850...\n",
            "🔄 Mengambil data dari offset 1900...\n",
            "🔄 Mengambil data dari offset 1950...\n",
            "🔄 Mengambil data dari offset 2000...\n",
            "🔄 Mengambil data dari offset 2050...\n",
            "🔄 Mengambil data dari offset 2100...\n",
            "🔄 Mengambil data dari offset 2150...\n",
            "🔄 Mengambil data dari offset 2200...\n",
            "🔄 Mengambil data dari offset 2250...\n",
            "🔄 Mengambil data dari offset 2300...\n",
            "🔄 Mengambil data dari offset 2350...\n",
            "🔄 Mengambil data dari offset 2400...\n",
            "🔄 Mengambil data dari offset 2450...\n",
            "🔄 Mengambil data dari offset 2500...\n",
            "🔄 Mengambil data dari offset 2550...\n",
            "🔄 Mengambil data dari offset 2600...\n",
            "🔄 Mengambil data dari offset 2650...\n",
            "🔄 Mengambil data dari offset 2700...\n",
            "🔄 Mengambil data dari offset 2750...\n",
            "🔄 Mengambil data dari offset 2800...\n",
            "🔄 Mengambil data dari offset 2850...\n",
            "🔄 Mengambil data dari offset 2900...\n",
            "🔄 Mengambil data dari offset 2950...\n",
            "🔄 Mengambil data dari offset 3000...\n",
            "🔄 Mengambil data dari offset 3050...\n",
            "⚠️ Terjadi kesalahan: 'ratings'\n",
            "✅ Data mentah telah disimpan sebagai 'shopee_reviews_raw.csv'.\n"
          ]
        }
      ]
    },
    {
      "cell_type": "code",
      "source": [
        "# Fungsi preprocessing teks\n",
        "def clean_text(text):\n",
        "    if not isinstance(text, str):\n",
        "        return \"\"\n",
        "    text = text.lower()\n",
        "    text = re.sub(r\"http\\S+|www\\S+\", \"\", text)  # Hapus URL\n",
        "    text = re.sub(r\"[^a-zA-Z0-9 ]\", \"\", text)  # Hapus karakter spesial\n",
        "    text = re.sub(r\"\\s+\", \" \", text).strip()  # Hapus spasi berlebih\n",
        "    text = \" \".join([word for word in text.split() if word not in stop_words])  # Hapus stopwords\n",
        "    return text\n",
        "\n",
        "# Fungsi labeling sentimen\n",
        "def get_sentiment(text):\n",
        "    analysis = TextBlob(text)\n",
        "    if analysis.sentiment.polarity > 0:\n",
        "        return 2  # Positif\n",
        "    elif analysis.sentiment.polarity < 0:\n",
        "        return 0  # Negatif\n",
        "    else:\n",
        "        return 1  # Netral\n",
        "\n",
        "# Preprocessing data\n",
        "df_reviews[\"Komentar\"] = df_reviews[\"Komentar\"].apply(clean_text)\n",
        "\n",
        "# Labeling sentimen\n",
        "df_reviews[\"Sentimen\"] = df_reviews[\"Komentar\"].apply(get_sentiment)\n",
        "\n",
        "# Simpan hasil scraping ke CSV\n",
        "df_reviews.to_csv(\"shopee_reviews_cleaned.csv\", index=False)\n",
        "print(\"✅ Data telah disimpan sebagai 'shopee_reviews_cleaned.csv'.\")"
      ],
      "metadata": {
        "colab": {
          "base_uri": "https://localhost:8080/"
        },
        "id": "loP3EMKEvg11",
        "outputId": "0cf38656-c2b0-486b-a5d4-540094cd8ce8"
      },
      "execution_count": 3,
      "outputs": [
        {
          "output_type": "stream",
          "name": "stdout",
          "text": [
            "✅ Data telah disimpan sebagai 'shopee_reviews_cleaned.csv'.\n"
          ]
        }
      ]
    },
    {
      "cell_type": "code",
      "source": [
        "# Visualisasi distribusi polaritas sentimen\n",
        "plt.figure(figsize=(8, 6))\n",
        "sns.countplot(x=df_reviews[\"Sentimen\"], palette=\"viridis\")\n",
        "plt.xticks(ticks=[0, 1, 2], labels=[\"Negatif\", \"Netral\", \"Positif\"])\n",
        "plt.title(\"Distribusi Sentimen dalam Ulasan Shopee\")\n",
        "plt.xlabel(\"Kategori Sentimen\")\n",
        "plt.ylabel(\"Jumlah Ulasan\")\n",
        "plt.show()"
      ],
      "metadata": {
        "colab": {
          "base_uri": "https://localhost:8080/",
          "height": 612
        },
        "id": "xFT-zMyFvjYD",
        "outputId": "657dd8d6-2528-4045-95e5-2e8820571541"
      },
      "execution_count": 4,
      "outputs": [
        {
          "output_type": "stream",
          "name": "stderr",
          "text": [
            "<ipython-input-4-708ba247fad1>:3: FutureWarning: \n",
            "\n",
            "Passing `palette` without assigning `hue` is deprecated and will be removed in v0.14.0. Assign the `x` variable to `hue` and set `legend=False` for the same effect.\n",
            "\n",
            "  sns.countplot(x=df_reviews[\"Sentimen\"], palette=\"viridis\")\n"
          ]
        },
        {
          "output_type": "display_data",
          "data": {
            "text/plain": [
              "<Figure size 800x600 with 1 Axes>"
            ],
            "image/png": "[encoded data removed]"
          },
          "metadata": {}
        }
      ]
    },
    {
      "cell_type": "code",
      "source": [
        "# TF-IDF Vectorization\n",
        "vectorizer = TfidfVectorizer(max_features=5000)\n",
        "X = vectorizer.fit_transform(df_reviews[\"Komentar\"])\n",
        "y = df_reviews[\"Sentimen\"]\n",
        "\n",
        "# Split data\n",
        "X_train, X_test, y_train, y_test = train_test_split(X, y, test_size=0.2, random_state=42)"
      ],
      "metadata": {
        "id": "pyHIxgxPvlIy"
      },
      "execution_count": 5,
      "outputs": []
    },
    {
      "cell_type": "code",
      "source": [
        "# Algoritma Machine Learning & Deep Learning\n",
        "models = {\n",
        "    \"Naive Bayes\": MultinomialNB(),\n",
        "    \"Random Forest\": RandomForestClassifier(n_estimators=100, random_state=42),\n",
        "    \"Logistic Regression\": LogisticRegression(max_iter=500),\n",
        "    \"Decision Tree\": DecisionTreeClassifier(),\n",
        "    \"Neural Network\": MLPClassifier(hidden_layer_sizes=(100,), max_iter=500, random_state=42)\n",
        "}\n",
        "\n",
        "# Evaluasi Model\n",
        "results = []\n",
        "for name, model in models.items():\n",
        "    print(f\"\\n🔍 Training {name}...\")\n",
        "    model.fit(X_train, y_train)\n",
        "    y_pred = model.predict(X_test)\n",
        "    acc = accuracy_score(y_test, y_pred)\n",
        "    print(f\"✅ Akurasi {name}: {acc * 100:.2f}%\")\n",
        "    print(classification_report(y_test, y_pred))\n",
        "    results.append([name, acc * 100])\n",
        "\n",
        "# Simpan hasil evaluasi ke CSV\n",
        "df_results = pd.DataFrame(results, columns=[\"Model\", \"Accuracy\"])\n",
        "df_results.to_csv(\"model_evaluation.csv\", index=False)\n",
        "print(\"✅ Hasil evaluasi disimpan sebagai 'model_evaluation.csv'.\")\n"
      ],
      "metadata": {
        "colab": {
          "base_uri": "https://localhost:8080/"
        },
        "id": "iJz-xKZeuu2H",
        "outputId": "01d26ab7-3f36-4986-ddd0-a84fbada3e75"
      },
      "execution_count": 6,
      "outputs": [
        {
          "output_type": "stream",
          "name": "stdout",
          "text": [
            "\n",
            "🔍 Training Naive Bayes...\n",
            "✅ Akurasi Naive Bayes: 95.74%\n",
            "              precision    recall  f1-score   support\n",
            "\n",
            "           0       0.00      0.00      0.00         2\n",
            "           1       0.96      1.00      0.98       584\n",
            "           2       0.00      0.00      0.00        24\n",
            "\n",
            "    accuracy                           0.96       610\n",
            "   macro avg       0.32      0.33      0.33       610\n",
            "weighted avg       0.92      0.96      0.94       610\n",
            "\n",
            "\n",
            "🔍 Training Random Forest...\n"
          ]
        },
        {
          "output_type": "stream",
          "name": "stderr",
          "text": [
            "/usr/local/lib/python3.11/dist-packages/sklearn/metrics/_classification.py:1565: UndefinedMetricWarning: Precision is ill-defined and being set to 0.0 in labels with no predicted samples. Use `zero_division` parameter to control this behavior.\n",
            "  _warn_prf(average, modifier, f\"{metric.capitalize()} is\", len(result))\n",
            "/usr/local/lib/python3.11/dist-packages/sklearn/metrics/_classification.py:1565: UndefinedMetricWarning: Precision is ill-defined and being set to 0.0 in labels with no predicted samples. Use `zero_division` parameter to control this behavior.\n",
            "  _warn_prf(average, modifier, f\"{metric.capitalize()} is\", len(result))\n",
            "/usr/local/lib/python3.11/dist-packages/sklearn/metrics/_classification.py:1565: UndefinedMetricWarning: Precision is ill-defined and being set to 0.0 in labels with no predicted samples. Use `zero_division` parameter to control this behavior.\n",
            "  _warn_prf(average, modifier, f\"{metric.capitalize()} is\", len(result))\n"
          ]
        },
        {
          "output_type": "stream",
          "name": "stdout",
          "text": [
            "✅ Akurasi Random Forest: 96.89%\n",
            "              precision    recall  f1-score   support\n",
            "\n",
            "           0       0.00      0.00      0.00         2\n",
            "           1       0.97      1.00      0.98       584\n",
            "           2       1.00      0.29      0.45        24\n",
            "\n",
            "    accuracy                           0.97       610\n",
            "   macro avg       0.66      0.43      0.48       610\n",
            "weighted avg       0.97      0.97      0.96       610\n",
            "\n",
            "\n",
            "🔍 Training Logistic Regression...\n"
          ]
        },
        {
          "output_type": "stream",
          "name": "stderr",
          "text": [
            "/usr/local/lib/python3.11/dist-packages/sklearn/metrics/_classification.py:1565: UndefinedMetricWarning: Precision is ill-defined and being set to 0.0 in labels with no predicted samples. Use `zero_division` parameter to control this behavior.\n",
            "  _warn_prf(average, modifier, f\"{metric.capitalize()} is\", len(result))\n",
            "/usr/local/lib/python3.11/dist-packages/sklearn/metrics/_classification.py:1565: UndefinedMetricWarning: Precision is ill-defined and being set to 0.0 in labels with no predicted samples. Use `zero_division` parameter to control this behavior.\n",
            "  _warn_prf(average, modifier, f\"{metric.capitalize()} is\", len(result))\n",
            "/usr/local/lib/python3.11/dist-packages/sklearn/metrics/_classification.py:1565: UndefinedMetricWarning: Precision is ill-defined and being set to 0.0 in labels with no predicted samples. Use `zero_division` parameter to control this behavior.\n",
            "  _warn_prf(average, modifier, f\"{metric.capitalize()} is\", len(result))\n"
          ]
        },
        {
          "output_type": "stream",
          "name": "stdout",
          "text": [
            "✅ Akurasi Logistic Regression: 95.90%\n",
            "              precision    recall  f1-score   support\n",
            "\n",
            "           0       0.00      0.00      0.00         2\n",
            "           1       0.96      1.00      0.98       584\n",
            "           2       1.00      0.04      0.08        24\n",
            "\n",
            "    accuracy                           0.96       610\n",
            "   macro avg       0.65      0.35      0.35       610\n",
            "weighted avg       0.96      0.96      0.94       610\n",
            "\n",
            "\n",
            "🔍 Training Decision Tree...\n",
            "✅ Akurasi Decision Tree: 99.02%\n",
            "              precision    recall  f1-score   support\n",
            "\n",
            "           0       0.50      0.50      0.50         2\n",
            "           1       0.99      1.00      1.00       584\n",
            "           2       0.91      0.88      0.89        24\n",
            "\n",
            "    accuracy                           0.99       610\n",
            "   macro avg       0.80      0.79      0.80       610\n",
            "weighted avg       0.99      0.99      0.99       610\n",
            "\n",
            "\n",
            "🔍 Training Neural Network...\n"
          ]
        },
        {
          "output_type": "stream",
          "name": "stderr",
          "text": [
            "/usr/local/lib/python3.11/dist-packages/sklearn/metrics/_classification.py:1565: UndefinedMetricWarning: Precision is ill-defined and being set to 0.0 in labels with no predicted samples. Use `zero_division` parameter to control this behavior.\n",
            "  _warn_prf(average, modifier, f\"{metric.capitalize()} is\", len(result))\n",
            "/usr/local/lib/python3.11/dist-packages/sklearn/metrics/_classification.py:1565: UndefinedMetricWarning: Precision is ill-defined and being set to 0.0 in labels with no predicted samples. Use `zero_division` parameter to control this behavior.\n",
            "  _warn_prf(average, modifier, f\"{metric.capitalize()} is\", len(result))\n",
            "/usr/local/lib/python3.11/dist-packages/sklearn/metrics/_classification.py:1565: UndefinedMetricWarning: Precision is ill-defined and being set to 0.0 in labels with no predicted samples. Use `zero_division` parameter to control this behavior.\n",
            "  _warn_prf(average, modifier, f\"{metric.capitalize()} is\", len(result))\n"
          ]
        },
        {
          "output_type": "stream",
          "name": "stdout",
          "text": [
            "✅ Akurasi Neural Network: 96.23%\n",
            "              precision    recall  f1-score   support\n",
            "\n",
            "           0       0.00      0.00      0.00         2\n",
            "           1       0.96      1.00      0.98       584\n",
            "           2       1.00      0.12      0.22        24\n",
            "\n",
            "    accuracy                           0.96       610\n",
            "   macro avg       0.65      0.38      0.40       610\n",
            "weighted avg       0.96      0.96      0.95       610\n",
            "\n",
            "✅ Hasil evaluasi disimpan sebagai 'model_evaluation.csv'.\n"
          ]
        },
        {
          "output_type": "stream",
          "name": "stderr",
          "text": [
            "/usr/local/lib/python3.11/dist-packages/sklearn/metrics/_classification.py:1565: UndefinedMetricWarning: Precision is ill-defined and being set to 0.0 in labels with no predicted samples. Use `zero_division` parameter to control this behavior.\n",
            "  _warn_prf(average, modifier, f\"{metric.capitalize()} is\", len(result))\n",
            "/usr/local/lib/python3.11/dist-packages/sklearn/metrics/_classification.py:1565: UndefinedMetricWarning: Precision is ill-defined and being set to 0.0 in labels with no predicted samples. Use `zero_division` parameter to control this behavior.\n",
            "  _warn_prf(average, modifier, f\"{metric.capitalize()} is\", len(result))\n",
            "/usr/local/lib/python3.11/dist-packages/sklearn/metrics/_classification.py:1565: UndefinedMetricWarning: Precision is ill-defined and being set to 0.0 in labels with no predicted samples. Use `zero_division` parameter to control this behavior.\n",
            "  _warn_prf(average, modifier, f\"{metric.capitalize()} is\", len(result))\n"
          ]
        }
      ]
    }
  ]
}