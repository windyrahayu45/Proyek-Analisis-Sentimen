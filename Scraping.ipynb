{
  "nbformat": 4,
  "nbformat_minor": 0,
  "metadata": {
    "colab": {
      "provenance": [],
      "authorship_tag": "ABX9TyNCBozI4VHfR7rGmX2bwWww",
      "include_colab_link": true
    },
    "kernelspec": {
      "name": "python3",
      "display_name": "Python 3"
    },
    "language_info": {
      "name": "python"
    }
  },
  "cells": [
    {
      "cell_type": "markdown",
      "metadata": {
        "id": "view-in-github",
        "colab_type": "text"
      },
      "source": [
        "<a href=\"https://colab.research.google.com/github/windyrahayu45/Proyek-Analisis-Sentimen/blob/main/Scraping.ipynb\" target=\"_parent\"><img src=\"https://colab.research.google.com/assets/colab-badge.svg\" alt=\"Open In Colab\"/></a>"
      ]
    },
    {
      "cell_type": "code",
      "execution_count": 1,
      "metadata": {
        "colab": {
          "base_uri": "https://localhost:8080/"
        },
        "id": "FSK5Uu_pxltQ",
        "outputId": "b37d817a-9e7e-4cbf-dbe3-32eae0aae785"
      },
      "outputs": [
        {
          "output_type": "stream",
          "name": "stderr",
          "text": [
            "[nltk_data] Downloading package stopwords to /root/nltk_data...\n",
            "[nltk_data]   Unzipping corpora/stopwords.zip.\n"
          ]
        }
      ],
      "source": [
        "import requests\n",
        "import pandas as pd\n",
        "import time\n",
        "import re\n",
        "import nltk\n",
        "import matplotlib.pyplot as plt\n",
        "import seaborn as sns\n",
        "from nltk.corpus import stopwords\n",
        "from textblob import TextBlob\n",
        "from sklearn.model_selection import train_test_split\n",
        "from sklearn.feature_extraction.text import TfidfVectorizer\n",
        "from sklearn.naive_bayes import MultinomialNB\n",
        "from sklearn.ensemble import RandomForestClassifier\n",
        "from sklearn.linear_model import LogisticRegression\n",
        "from sklearn.tree import DecisionTreeClassifier\n",
        "from sklearn.neural_network import MLPClassifier\n",
        "from sklearn.metrics import accuracy_score, classification_report, confusion_matrix\n",
        "\n",
        "# Pastikan stopwords bahasa Indonesia tersedia\n",
        "nltk.download(\"stopwords\")\n",
        "stop_words = set(stopwords.words(\"indonesian\"))"
      ]
    },
    {
      "cell_type": "code",
      "source": [
        "# Shop ID dan Item ID dari URL produk Shopee\n",
        "SHOP_ID = 468947139\n",
        "ITEM_ID = 23878205368\n",
        "MAX_REVIEWS = 10000  # Target minimal 10.000 data\n",
        "LIMIT = 50\n",
        "\n",
        "# Set Header & Cookies dari Browser\n",
        "HEADERS = {\n",
        "    \"User-Agent\": \"Mozilla/5.0 (Windows NT 10.0; Win64; x64) AppleWebKit/537.36 (KHTML, like Gecko) Chrome/123.0.0.0 Safari/537.36\",\n",
        "    \"Referer\": f\"https://shopee.co.id/product/{SHOP_ID}/{ITEM_ID}/\",\n",
        "}\n",
        "\n",
        "# Fungsi scraping dengan session\n",
        "def scrape_shopee_reviews(shop_id, item_id, max_reviews=10000):\n",
        "    session = requests.Session()\n",
        "    session.headers.update(HEADERS)\n",
        "\n",
        "    reviews = []\n",
        "    offset = 0\n",
        "\n",
        "    while len(reviews) < max_reviews:\n",
        "        print(f\"🔄 Mengambil data dari offset {offset}...\")\n",
        "        url = f\"https://shopee.co.id/api/v2/item/get_ratings?itemid={item_id}&shopid={shop_id}&offset={offset}&limit={LIMIT}&type=0\"\n",
        "\n",
        "        try:\n",
        "            response = session.get(url)\n",
        "            if response.status_code != 200:\n",
        "                print(\"⚠️ Gagal mengambil data, status code:\", response.status_code)\n",
        "                break\n",
        "\n",
        "            data = response.json()\n",
        "            if \"data\" in data and \"ratings\" in data[\"data\"]:\n",
        "                for review in data[\"data\"][\"ratings\"]:\n",
        "                    reviews.append({\n",
        "                        \"Username\": review.get(\"author_username\", \"\"),\n",
        "                        \"Rating\": review.get(\"rating_star\", 0),\n",
        "                        \"Komentar\": review.get(\"comment\", \"\")\n",
        "                    })\n",
        "\n",
        "            offset += LIMIT\n",
        "            if len(data[\"data\"][\"ratings\"]) < LIMIT:\n",
        "                break\n",
        "\n",
        "            time.sleep(1)\n",
        "\n",
        "        except Exception as e:\n",
        "            print(\"⚠️ Terjadi kesalahan:\", str(e))\n",
        "            break\n",
        "\n",
        "    return pd.DataFrame(reviews)\n",
        "\n",
        "# Jalankan scraping\n",
        "df_reviews = scrape_shopee_reviews(SHOP_ID, ITEM_ID, MAX_REVIEWS)\n",
        "\n",
        "# Simpan hasil scraping sebelum preprocessing\n",
        "df_reviews.to_csv(\"shopee_reviews_raw.csv\", index=False)\n",
        "print(\"✅ Data mentah telah disimpan sebagai 'shopee_reviews_raw.csv'.\")"
      ],
      "metadata": {
        "colab": {
          "base_uri": "https://localhost:8080/"
        },
        "id": "6SGBQHlOxn_7",
        "outputId": "65bb43d5-54c2-475d-cca9-255badcb1176"
      },
      "execution_count": 2,
      "outputs": [
        {
          "output_type": "stream",
          "name": "stdout",
          "text": [
            "🔄 Mengambil data dari offset 0...\n",
            "🔄 Mengambil data dari offset 50...\n",
            "🔄 Mengambil data dari offset 100...\n",
            "🔄 Mengambil data dari offset 150...\n",
            "🔄 Mengambil data dari offset 200...\n",
            "🔄 Mengambil data dari offset 250...\n",
            "🔄 Mengambil data dari offset 300...\n",
            "🔄 Mengambil data dari offset 350...\n",
            "🔄 Mengambil data dari offset 400...\n",
            "🔄 Mengambil data dari offset 450...\n",
            "🔄 Mengambil data dari offset 500...\n",
            "🔄 Mengambil data dari offset 550...\n",
            "🔄 Mengambil data dari offset 600...\n",
            "🔄 Mengambil data dari offset 650...\n",
            "🔄 Mengambil data dari offset 700...\n",
            "🔄 Mengambil data dari offset 750...\n",
            "🔄 Mengambil data dari offset 800...\n",
            "🔄 Mengambil data dari offset 850...\n",
            "🔄 Mengambil data dari offset 900...\n",
            "🔄 Mengambil data dari offset 950...\n",
            "🔄 Mengambil data dari offset 1000...\n",
            "🔄 Mengambil data dari offset 1050...\n",
            "🔄 Mengambil data dari offset 1100...\n",
            "🔄 Mengambil data dari offset 1150...\n",
            "🔄 Mengambil data dari offset 1200...\n",
            "🔄 Mengambil data dari offset 1250...\n",
            "🔄 Mengambil data dari offset 1300...\n",
            "🔄 Mengambil data dari offset 1350...\n",
            "🔄 Mengambil data dari offset 1400...\n",
            "🔄 Mengambil data dari offset 1450...\n",
            "🔄 Mengambil data dari offset 1500...\n",
            "🔄 Mengambil data dari offset 1550...\n",
            "🔄 Mengambil data dari offset 1600...\n",
            "🔄 Mengambil data dari offset 1650...\n",
            "🔄 Mengambil data dari offset 1700...\n",
            "🔄 Mengambil data dari offset 1750...\n",
            "🔄 Mengambil data dari offset 1800...\n",
            "🔄 Mengambil data dari offset 1850...\n",
            "🔄 Mengambil data dari offset 1900...\n",
            "🔄 Mengambil data dari offset 1950...\n",
            "🔄 Mengambil data dari offset 2000...\n",
            "🔄 Mengambil data dari offset 2050...\n",
            "🔄 Mengambil data dari offset 2100...\n",
            "🔄 Mengambil data dari offset 2150...\n",
            "🔄 Mengambil data dari offset 2200...\n",
            "🔄 Mengambil data dari offset 2250...\n",
            "🔄 Mengambil data dari offset 2300...\n",
            "🔄 Mengambil data dari offset 2350...\n",
            "🔄 Mengambil data dari offset 2400...\n",
            "🔄 Mengambil data dari offset 2450...\n",
            "🔄 Mengambil data dari offset 2500...\n",
            "🔄 Mengambil data dari offset 2550...\n",
            "🔄 Mengambil data dari offset 2600...\n",
            "🔄 Mengambil data dari offset 2650...\n",
            "🔄 Mengambil data dari offset 2700...\n",
            "🔄 Mengambil data dari offset 2750...\n",
            "🔄 Mengambil data dari offset 2800...\n",
            "🔄 Mengambil data dari offset 2850...\n",
            "🔄 Mengambil data dari offset 2900...\n",
            "🔄 Mengambil data dari offset 2950...\n",
            "🔄 Mengambil data dari offset 3000...\n",
            "🔄 Mengambil data dari offset 3050...\n",
            "⚠️ Terjadi kesalahan: 'ratings'\n",
            "✅ Data mentah telah disimpan sebagai 'shopee_reviews_raw.csv'.\n"
          ]
        }
      ]
    }
  ]
}